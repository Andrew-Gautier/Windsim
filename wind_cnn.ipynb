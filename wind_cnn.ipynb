{
 "cells": [
  {
   "cell_type": "markdown",
   "metadata": {},
   "source": [
    "The goal of this CNN is to classify wind faults into four categories: \n",
    "1. 3 Phase to Ground\n",
    "2. 2 Phase line to line\n",
    "3. 2 phase to earth\n",
    "4. 1 pole line to ground. \n",
    "\n"
   ]
  },
  {
   "cell_type": "code",
   "execution_count": 2,
   "metadata": {},
   "outputs": [],
   "source": [
    "import os\n",
    "import numpy as np\n",
    "import pandas as pd\n",
    "from sklearn.preprocessing import MinMaxScaler\n",
    "import torch\n",
    "from torch.utils.data import Dataset, DataLoader\n",
    "from torch import nn"
   ]
  },
  {
   "cell_type": "markdown",
   "metadata": {},
   "source": [
    "Preprocessing + Rolling Windows"
   ]
  },
  {
   "cell_type": "code",
   "execution_count": 3,
   "metadata": {},
   "outputs": [],
   "source": [
    "WINDOW_SIZE = 100  # 1 second window (adjust if needed)\n",
    "LABEL_MAPPING = {\n",
    "    \"3P.GND\": 0,  # 3-phase to ground\n",
    "    \"2P.LL\": 1,   # 2-phase line to line\n",
    "    \"2P.EARTH\": 2, # 2-phase to earth\n",
    "    \"1P.GND\": 3    # 1-pole line to ground\n",
    "}\n",
    "class WindFaultDataset(Dataset):\n",
    "    \"\"\" PyTorch Dataset for Wind Fault Classification \"\"\"\n",
    "    def __init__(self, file_paths):\n",
    "        self.data = []\n",
    "        self.labels = []\n",
    "        self.scaler = MinMaxScaler()\n",
    "\n",
    "        for file_path in file_paths:\n",
    "            features, label = self.process_csv(file_path)\n",
    "            windows, labels = self.create_rolling_windows(features, label, WINDOW_SIZE)\n",
    "            self.data.append(windows)\n",
    "            self.labels.append(labels)\n",
    "\n",
    "        self.data = np.vstack(self.data)  # Stack all windows\n",
    "        self.labels = np.hstack(self.labels)\n",
    "\n",
    "    def process_csv(self, file_path):\n",
    "        \"\"\" Load and preprocess a CSV file. \"\"\"\n",
    "        df = pd.read_csv(file_path)  # Skip headers\n",
    "        df.columns = pd.read_csv(file_path, nrows=1).iloc[0]  # Assign proper column names\n",
    "        df = df.apply(pd.to_numeric, errors='coerce')  # Convert to numeric\n",
    "        \n",
    "        # Normalize features\n",
    "        feature_data = self.scaler.fit_transform(df.iloc[:, 1:])  # Exclude time column\n",
    "\n",
    "        # Extract label from filename\n",
    "        fault_type = os.path.basename(file_path).split(\"-\")[0]\n",
    "        label = LABEL_MAPPING.get(fault_type, -1)\n",
    "\n",
    "        return feature_data, label\n",
    "\n",
    "    def create_rolling_windows(self, data, label, window_size):\n",
    "        \"\"\" Generate overlapping rolling windows of data. \"\"\"\n",
    "        windows = []\n",
    "        labels = []\n",
    "        for i in range(len(data) - window_size + 1):  # Overlapping windows\n",
    "            windows.append(data[i:i + window_size])\n",
    "            labels.append(label)\n",
    "        return np.array(windows), np.array(labels)\n",
    "\n",
    "    def __len__(self):\n",
    "        return len(self.data)\n",
    "\n",
    "    def __getitem__(self, idx):\n",
    "        return torch.tensor(self.data[idx], dtype=torch.float32), torch.tensor(self.labels[idx], dtype=torch.long)"
   ]
  },
  {
   "cell_type": "code",
   "execution_count": 4,
   "metadata": {},
   "outputs": [
    {
     "name": "stdout",
     "output_type": "stream",
     "text": [
      "Sample data shape: torch.Size([100, 18])\n",
      "Sample label: tensor(-1)\n"
     ]
    }
   ],
   "source": [
    "file_paths = [\"Wind_Faults\\\\1P-60-0-0.csv\", \"Wind_Faults\\\\2P-40-20-0.csv\"]  # Replace with actual file paths\n",
    "dataset = WindFaultDataset(file_paths)\n",
    "dataloader = DataLoader(dataset, batch_size=32, shuffle=True)\n",
    "\n",
    "# Print dataset shape\n",
    "sample_data, sample_label = dataset[0]\n",
    "print(\"Sample data shape:\", sample_data.shape)  # (WINDOW_SIZE, num_features)\n",
    "print(\"Sample label:\", sample_label)"
   ]
  },
  {
   "cell_type": "markdown",
   "metadata": {},
   "source": [
    "Friday: Add in the other two components from ChatGPT"
   ]
  }
 ],
 "metadata": {
  "kernelspec": {
   "display_name": "venv",
   "language": "python",
   "name": "python3"
  },
  "language_info": {
   "codemirror_mode": {
    "name": "ipython",
    "version": 3
   },
   "file_extension": ".py",
   "mimetype": "text/x-python",
   "name": "python",
   "nbconvert_exporter": "python",
   "pygments_lexer": "ipython3",
   "version": "3.12.6"
  }
 },
 "nbformat": 4,
 "nbformat_minor": 2
}
