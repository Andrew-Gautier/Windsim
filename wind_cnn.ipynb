{
 "cells": [
  {
   "cell_type": "markdown",
   "metadata": {},
   "source": [
    "The goal of this CNN is to classify wind faults into four categories: \n",
    "1. 3 Phase to Ground\n",
    "2. 2 Phase line to line\n",
    "3. 2 phase to earth\n",
    "4. 1 pole line to ground. \n",
    "\n"
   ]
  },
  {
   "cell_type": "code",
   "execution_count": 9,
   "metadata": {},
   "outputs": [],
   "source": [
    "import os\n",
    "import numpy as np\n",
    "import pandas as pd\n",
    "from sklearn.preprocessing import MinMaxScaler\n",
    "import torch\n",
    "from torch.utils.data import Dataset, DataLoader\n",
    "from torch import nn\n",
    "from sklearn.model_selection import train_test_split\n",
    "import torch.nn as nn\n",
    "import torch.optim as optim\n",
    "from torchviz import make_dot\n",
    "from sklearn.metrics import accuracy_score, classification_report, confusion_matrix\n"
   ]
  },
  {
   "cell_type": "markdown",
   "metadata": {},
   "source": [
    "Preprocessing + Rolling Windows"
   ]
  },
  {
   "cell_type": "code",
   "execution_count": 3,
   "metadata": {},
   "outputs": [],
   "source": [
    "WINDOW_SIZE = 20  # 1 second window (adjust if needed)\n",
    "OVERLAP_SIZE = 15\n",
    "LABEL_MAPPING = {\n",
    "    \"3P\": 1,  # 3-phase to ground\n",
    "    \"2P\": 1,   # 2-phase line to line\n",
    "    \"2P.EARTH\": 1, # 2-phase to earth\n",
    "    \"1P\": 1,    # 1-pole line to ground\n",
    "    \"normal\": 0  # Normal\n",
    "}\n",
    "class WindFaultDataset(Dataset):\n",
    "    \"\"\" PyTorch Dataset for Wind Fault Classification \"\"\"\n",
    "    def __init__(self, file_paths):\n",
    "        self.data = []\n",
    "        self.labels = []\n",
    "        self.scaler = MinMaxScaler()\n",
    "\n",
    "        for file_path in file_paths:\n",
    "            features, label = self.process_csv(file_path)\n",
    "            windows, labels = self.create_rolling_windows(features, label, WINDOW_SIZE, OVERLAP_SIZE)\n",
    "            self.data.append(windows)\n",
    "            self.labels.append(labels)\n",
    "\n",
    "         # Check if all windows have the same number of columns\n",
    "        num_columns = [window.shape[2] for window in self.data]\n",
    "        if len(set(num_columns)) != 1:\n",
    "            raise ValueError(f\"Mismatch in number of columns: {num_columns}\")\n",
    "\n",
    "        self.data = np.vstack(self.data)  # Stack all windows\n",
    "        self.labels = np.hstack(self.labels)\n",
    "\n",
    "    def process_csv(self, file_path):\n",
    "        \"\"\" Load and preprocess a CSV file. \"\"\"\n",
    "        df = pd.read_csv(file_path)\n",
    "  \n",
    "        df = df.drop(df.columns[0], axis=1)  # Dropping time column\n",
    "        df = df.apply(pd.to_numeric, errors='coerce')  # Convert to numeric\n",
    "        \n",
    "        # Extract label from filename\n",
    "        fault_type = os.path.basename(file_path).split(\"-\")[0]\n",
    "        label = LABEL_MAPPING.get(fault_type, 0)\n",
    "        \n",
    "        # Normalize features\n",
    "        feature_data = self.scaler.fit_transform(df)\n",
    "        # Add label column to feature_data\n",
    "        label_column = np.full((feature_data.shape[0], 1), label)\n",
    "        features = np.hstack((feature_data, label_column))\n",
    "        \n",
    "        return features, label\n",
    "\n",
    "    def create_rolling_windows(self, data, label, window_size, overlap_size):\n",
    "        #\"\"\" Generate overlapping rolling windows of data. \"\"\"\n",
    "        windows = []\n",
    "        labels = []\n",
    "        step_size = window_size - overlap_size\n",
    "        for i in range(0, len(data) - window_size + 1, step_size):  # Overlapping windows\n",
    "            windows.append(data[i:i + window_size])\n",
    "            labels.append(label)\n",
    "        return np.array(windows), np.array(labels)\n",
    "\n",
    "    def __len__(self):\n",
    "        return len(self.data)\n",
    "    \n",
    "    def __getitem__(self, idx):\n",
    "        return torch.tensor(self.data[idx], dtype=torch.float32), torch.tensor(self.labels[idx], dtype=torch.long)"
   ]
  },
  {
   "cell_type": "markdown",
   "metadata": {},
   "source": [
    "I am going to make a seperate folder within Grid_faults to store the noise generated data. "
   ]
  },
  {
   "cell_type": "code",
   "execution_count": 15,
   "metadata": {},
   "outputs": [],
   "source": [
    "training_data = 'Dataset1'\n",
    "test_data = 'Distribution_faults'\n",
    "train_paths = []\n",
    "test_paths = []\n",
    "for file in os.listdir(training_data):\n",
    "    train_paths.append(os.path.join(training_data, file))\n",
    "for file in os.listdir(test_data):\n",
    "    test_paths.append(os.path.join(test_data, file))\n",
    "\n",
    "train_dataset = WindFaultDataset(train_paths)\n",
    "train_dataloader = DataLoader(train_dataset, batch_size=1, shuffle=True)\n",
    "test_dataset = WindFaultDataset(test_paths)\n",
    "test_dataloader = DataLoader(test_dataset, batch_size=1, shuffle=False)\n"
   ]
  },
  {
   "cell_type": "code",
   "execution_count": null,
   "metadata": {},
   "outputs": [
    {
     "name": "stdout",
     "output_type": "stream",
     "text": [
      "Sample data shape: torch.Size([20, 19])\n",
      "Sample label: tensor(1)\n",
      "Label statistics: {np.int64(0): np.int64(364), np.int64(1): np.int64(372)}\n"
     ]
    }
   ],
   "source": [
    "\n",
    "\n",
    "# Print dataset shape\n",
    "sample_data, sample_label = dataset[0]\n",
    "print(\"Sample data shape:\", sample_data.shape)  # (WINDOW_SIZE, num_features)\n",
    "print(\"Sample label:\", sample_label)\n",
    "unique, counts = np.unique(dataset.labels, return_counts=True)\n",
    "label_stats = dict(zip(unique, counts))\n",
    "print(\"Label statistics:\", label_stats)\n",
    "#print(sample_data)\n",
    "\n",
    "t_np = sample_data.numpy() #convert to Numpy array\n",
    "df = pd.DataFrame(t_np) #convert to a dataframe\n",
    "df.to_csv(\"testfile\",index=False) #save to file"
   ]
  },
  {
   "cell_type": "code",
   "execution_count": 16,
   "metadata": {},
   "outputs": [
    {
     "name": "stdout",
     "output_type": "stream",
     "text": [
      "WindFaultCNN(\n",
      "  (conv1): Conv1d(19, 16, kernel_size=(5,), stride=(1,), padding=(2,))\n",
      "  (relu): ReLU()\n",
      "  (conv2): Conv1d(16, 32, kernel_size=(5,), stride=(1,), padding=(2,))\n",
      "  (pool): MaxPool1d(kernel_size=2, stride=2, padding=0, dilation=1, ceil_mode=False)\n",
      "  (fc1): Linear(in_features=160, out_features=64, bias=True)\n",
      "  (fc2): Linear(in_features=64, out_features=5, bias=True)\n",
      "  (softmax): Softmax(dim=1)\n",
      ")\n"
     ]
    }
   ],
   "source": [
    "\n",
    "class WindFaultCNN(nn.Module):\n",
    "    def __init__(self, input_channels, num_classes, window_size):\n",
    "        super(WindFaultCNN, self).__init__()\n",
    "\n",
    "        self.conv1 = nn.Conv1d(in_channels=input_channels, out_channels=16, kernel_size=5, stride=1, padding=2)\n",
    "        self.relu = nn.ReLU()\n",
    "        self.conv2 = nn.Conv1d(16, 32, kernel_size=5, stride=1, padding=2)\n",
    "        self.pool = nn.MaxPool1d(kernel_size=2, stride=2)\n",
    "        self.fc1 = nn.Linear(32 * (WINDOW_SIZE // 2 // 2), 64)\n",
    "        self.fc2 = nn.Linear(64, num_classes)\n",
    "        self.softmax = nn.Softmax(dim=1)\n",
    "\n",
    "    def forward(self, x):\n",
    "        x = x.permute(0, 2, 1)  # Change shape to (batch, features, time)\n",
    "        x = self.pool(self.relu(self.conv1(x)))\n",
    "        x = self.pool(self.relu(self.conv2(x)))\n",
    "        x = x.view(x.shape[0], -1)  # Flatten\n",
    "        x = self.relu(self.fc1(x))\n",
    "        x = self.fc2(x)\n",
    "        return self.softmax(x)\n",
    "\n",
    "# Get input size\n",
    "num_features = sample_data.shape[1]  # Number of features (columns)\n",
    "num_classes = len(LABEL_MAPPING)\n",
    "\n",
    "# Initialize model\n",
    "model = WindFaultCNN(input_channels=num_features, num_classes=num_classes, window_size=WINDOW_SIZE)\n",
    "print(model)"
   ]
  },
  {
   "cell_type": "code",
   "execution_count": 1,
   "metadata": {},
   "outputs": [],
   "source": [
    "# model_graph = make_dot(model(sample_data.unsqueeze(0)), params=dict(model.named_parameters()))\n",
    "\n",
    "# # Render the graph\n",
    "# model_graph.render(\"wind_fault_cnn\", format=\"png\")"
   ]
  },
  {
   "cell_type": "code",
   "execution_count": null,
   "metadata": {},
   "outputs": [
    {
     "name": "stdout",
     "output_type": "stream",
     "text": [
      "Epoch 1, Loss: 0.9048324333422858\n",
      "Epoch 2, Loss: 0.9048323631286621\n",
      "Epoch 3, Loss: 0.9048323631286621\n",
      "Epoch 4, Loss: 0.9048323631286621\n",
      "Epoch 5, Loss: 0.9048323631286621\n",
      "Epoch 6, Loss: 0.9048323631286621\n",
      "Epoch 7, Loss: 0.9048323631286621\n",
      "Epoch 8, Loss: 0.9048323631286621\n",
      "Epoch 9, Loss: 0.9048323631286621\n",
      "Epoch 10, Loss: 0.9048323631286621\n",
      "Training complete.\n"
     ]
    },
    {
     "ename": "NameError",
     "evalue": "name 'test_dataloader' is not defined",
     "output_type": "error",
     "traceback": [
      "\u001b[1;31m---------------------------------------------------------------------------\u001b[0m",
      "\u001b[1;31mNameError\u001b[0m                                 Traceback (most recent call last)",
      "Cell \u001b[1;32mIn[10], line 63\u001b[0m\n\u001b[0;32m     59\u001b[0m     \u001b[38;5;28;01mreturn\u001b[39;00m accuracy, class_report, conf_matrix\n\u001b[0;32m     61\u001b[0m \u001b[38;5;66;03m# Example Usage\u001b[39;00m\n\u001b[0;32m     62\u001b[0m test_accuracy, test_report, test_conf_matrix \u001b[38;5;241m=\u001b[39m evaluate_model(\n\u001b[1;32m---> 63\u001b[0m     model, \u001b[43mtest_dataloader\u001b[49m, criterion, device\n\u001b[0;32m     64\u001b[0m )\n",
      "\u001b[1;31mNameError\u001b[0m: name 'test_dataloader' is not defined"
     ]
    }
   ],
   "source": [
    "device = torch.device(\"cuda\" if torch.cuda.is_available() else \"cpu\")\n",
    "model.to(device)\n",
    "\n",
    "criterion = nn.CrossEntropyLoss()\n",
    "optimizer = optim.Adam(model.parameters(), lr=0.001)\n",
    "dataloader = train_dataloader\n",
    "# Training loop\n",
    "num_epochs = 10\n",
    "for epoch in range(num_epochs):\n",
    "    running_loss = 0.0\n",
    "    for inputs, labels in dataloader:\n",
    "        inputs, labels = inputs.to(device), labels.to(device)\n",
    "\n",
    "        optimizer.zero_grad()\n",
    "        outputs = model(inputs)\n",
    "        loss = criterion(outputs, labels)\n",
    "        loss.backward()\n",
    "        optimizer.step()\n",
    "\n",
    "        running_loss += loss.item()\n",
    "\n",
    "    print(f\"Epoch {epoch+1}, Loss: {running_loss/len(dataloader)}\")\n",
    "\n",
    "print(\"Training complete.\")\n",
    "\n",
    "\n",
    "def evaluate_model(model, dataloader, criterion, device):\n",
    "    model.eval()  # Set model to evaluation mode\n",
    "    total_loss = 0.0\n",
    "    all_preds = []\n",
    "    all_labels = []\n",
    "\n",
    "    with torch.no_grad():  # No gradient calculation\n",
    "        for inputs, labels in dataloader:\n",
    "            inputs, labels = inputs.to(device), labels.to(device)\n",
    "\n",
    "            # Forward pass\n",
    "            outputs = model(inputs)\n",
    "            loss = criterion(outputs, labels)\n",
    "            total_loss += loss.item()\n",
    "\n",
    "            # Get predicted classes\n",
    "            _, preds = torch.max(outputs, 1)  # Convert softmax to class indices\n",
    "\n",
    "            # Store results\n",
    "            all_preds.extend(preds.cpu().numpy())\n",
    "            all_labels.extend(labels.cpu().numpy())\n",
    "\n",
    "    # Compute metrics\n",
    "    accuracy = accuracy_score(all_labels, all_preds)\n",
    "    class_report = classification_report(all_labels, all_preds, digits=4)\n",
    "    conf_matrix = confusion_matrix(all_labels, all_preds)\n",
    "\n",
    "    print(f\"Test Loss: {total_loss / len(dataloader):.4f}\")\n",
    "    print(f\"Test Accuracy: {accuracy:.4f}\")\n",
    "    print(\"\\nClassification Report:\\n\", class_report)\n",
    "    print(\"\\nConfusion Matrix:\\n\", conf_matrix)\n",
    "\n",
    "    return accuracy, class_report, conf_matrix\n",
    "\n",
    "# Example Usage\n",
    "test_accuracy, test_report, test_conf_matrix = evaluate_model(\n",
    "    model, test_dataloader, criterion, device\n",
    ")"
   ]
  }
 ],
 "metadata": {
  "kernelspec": {
   "display_name": "venv",
   "language": "python",
   "name": "python3"
  },
  "language_info": {
   "codemirror_mode": {
    "name": "ipython",
    "version": 3
   },
   "file_extension": ".py",
   "mimetype": "text/x-python",
   "name": "python",
   "nbconvert_exporter": "python",
   "pygments_lexer": "ipython3",
   "version": "3.12.6"
  }
 },
 "nbformat": 4,
 "nbformat_minor": 2
}
