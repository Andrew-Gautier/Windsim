{
 "cells": [
  {
   "cell_type": "code",
   "execution_count": 4,
   "metadata": {},
   "outputs": [],
   "source": [
    "import pandas as pd\n",
    "import numpy as np\n",
    "import matplotlib.pyplot as plt\n",
    "import seaborn as sns\n",
    "import os"
   ]
  },
  {
   "cell_type": "markdown",
   "metadata": {},
   "source": [
    "Parsing the csvs:\n",
    "\n",
    "1. Remove first two lines. \n",
    "2. Separate files with a FRT Monitor and those without. \n"
   ]
  },
  {
   "cell_type": "code",
   "execution_count": 22,
   "metadata": {},
   "outputs": [],
   "source": [
    "# Directory containing the CSV files\n",
    "directory = 'Wind_Faults'\n",
    "\n",
    "# Initialize an empty list to store filenames with data in the 21st column\n",
    "frt_files = []\n",
    "\n",
    "# Loop through all files in the directory\n",
    "for filename in os.listdir(directory):\n",
    "    if filename.endswith('.csv'):\n",
    "        file_path = os.path.join(directory, filename)\n",
    "        df = pd.read_csv(file_path)\n",
    "        if 'Unnamed: 19' in df.columns:\n",
    "            df.drop(columns=['Unnamed: 19'], inplace=True)\n",
    "            df.to_csv(file_path, index=False)\n",
    "# print(frt_files)\n",
    "# for file_path in frt_files:\n",
    "#     # Remove data starting at the 21st column\n",
    "#     df = pd.read_csv(file_path)\n",
    "#     # Drop rows where all elements are NaN\n",
    "#     df.dropna(how='all', inplace=True)\n",
    "    # df_frt = df.iloc[:, 20:]\n",
    "    \n",
    "    # # Create new filename with 'frt' appended\n",
    "    # new_filename = os.path.basename(file_path).replace('.csv', '_frt.csv')\n",
    "    # new_file_path = os.path.join(directory, new_filename)\n",
    "    \n",
    "    # df_frt.to_csv(new_file_path, index=False)\n",
    "\n",
    "    # # Drop columns after the 21st in the original dataframe\n",
    "    # df = df.iloc[:, :20]\n",
    "    # df.to_csv(file_path, index=False)\n"
   ]
  }
 ],
 "metadata": {
  "kernelspec": {
   "display_name": "venv",
   "language": "python",
   "name": "python3"
  },
  "language_info": {
   "codemirror_mode": {
    "name": "ipython",
    "version": 3
   },
   "file_extension": ".py",
   "mimetype": "text/x-python",
   "name": "python",
   "nbconvert_exporter": "python",
   "pygments_lexer": "ipython3",
   "version": "3.12.6"
  }
 },
 "nbformat": 4,
 "nbformat_minor": 2
}
