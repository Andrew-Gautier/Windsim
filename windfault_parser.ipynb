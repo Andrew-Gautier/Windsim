{
 "cells": [
  {
   "cell_type": "code",
   "execution_count": 1,
   "metadata": {},
   "outputs": [],
   "source": [
    "import pandas as pd # type: ignore\n",
    "import numpy as np\n",
    "import matplotlib.pyplot as plt\n",
    "import seaborn as sns\n",
    "import os"
   ]
  },
  {
   "cell_type": "markdown",
   "metadata": {},
   "source": [
    "Parsing the csvs:\n",
    "\n",
    "1. Remove first two lines. \n",
    "2. Separate files with a FRT Monitor and those without. \n"
   ]
  },
  {
   "cell_type": "code",
   "execution_count": 2,
   "metadata": {},
   "outputs": [],
   "source": [
    "import shutil\n",
    "\n",
    "# Directory containing the CSV files\n",
    "directory = 'Grid_Faults'\n",
    "target = 'Frt_faults'\n",
    "# Initialize an empty list to store filenames with data in the 21st column\n",
    "frt_files = []\n",
    "\n",
    "# Loop through all files in the directory\n",
    "for filename in os.listdir(directory):\n",
    "    if 'frt' in filename:\n",
    "        frt_files.append(filename)\n",
    "\n",
    "# Move the FRT files to the target directory\n",
    "for file in frt_files:\n",
    "    file_path = os.path.join(directory, file)\n",
    "    target_path = os.path.join(target, file)\n",
    "    shutil.move(file_path, target_path)\n"
   ]
  },
  {
   "cell_type": "code",
   "execution_count": 10,
   "metadata": {},
   "outputs": [
    {
     "name": "stdout",
     "output_type": "stream",
     "text": [
      "['1P-0-0-0.csv', '1P-100-0-0.csv', '1P-100-0-0_frt.csv', '1P-20-0-0.csv', '1P-40-0-0.csv', '1P-60-0-0.csv', '1P-60-0-0_frt.csv', '2P-0-0-0.csv', '2P-0-100-0.csv', '2P-0-100-0_frt.csv', '2P-0-20-0.csv', '2P-0-40-0.csv', '2P-0-60-0.csv', '2P-0-60-0_frt.csv', '2P-100-0-0.csv', '2P-100-0-0_frt.csv', '2P-100-100-0.csv', '2P-100-100-0_frt.csv', '2P-100-20-0.csv', '2P-100-20-0_frt.csv', '2P-100-40-0.csv', '2P-100-40-0_frt.csv', '2P-100-60-0.csv', '2P-100-60-0_frt.csv', '2P-20-0-0.csv', '2P-20-100-0.csv', '2P-20-100-0_frt.csv', '2P-20-20-0.csv', '2P-20-40-0.csv', '2P-20-40-0_frt.csv', '2P-20-60-0.csv', '2P-20-60-0_frt.csv', '2P-40-0-0.csv', '2P-40-100-0.csv', '2P-40-100-0_frt.csv', '2P-40-20-0.csv', '2P-40-20-0_frt.csv', '2P-40-40-0.csv', '2P-40-40-0_frt.csv', '2P-40-60-0.csv', '2P-40-60-0_frt.csv', '2P-60-0-0.csv', '2P-60-0-0_frt.csv', '2P-60-100-0.csv', '2P-60-100-0_frt.csv', '2P-60-20-0.csv', '2P-60-20-0_frt.csv', '2P-60-40-0.csv', '2P-60-40-0_frt.csv', '2P-60-60-0.csv', '2P-60-60-0_frt.csv', '2P.EARTH-0-0-0.csv', '2P.EARTH-0-100-0.csv', '2P.EARTH-0-100-0_frt.csv', '2P.EARTH-0-20-0.csv', '2P.EARTH-0-40-0.csv', '2P.EARTH-0-60-0.csv', '2P.EARTH-0-60-0_frt.csv', '2P.EARTH-100-0-0.csv', '2P.EARTH-100-0-0_frt.csv', '2P.EARTH-100-100-0.csv', '2P.EARTH-100-100-0_frt.csv', '2P.EARTH-100-20-0.csv', '2P.EARTH-100-20-0_frt.csv', '2P.EARTH-100-40-0.csv', '2P.EARTH-100-40-0_frt.csv', '2P.EARTH-100-60-0.csv', '2P.EARTH-100-60-0_frt.csv', '2P.EARTH-20-0-0.csv', '2P.EARTH-20-100-0.csv', '2P.EARTH-20-100-0_frt.csv', '2P.EARTH-20-20-0.csv', '2P.EARTH-20-40-0.csv', '2P.EARTH-20-40-0_frt.csv', '2P.EARTH-20-60-0.csv', '2P.EARTH-20-60-0_frt.csv', '2P.EARTH-40-0-0.csv', '2P.EARTH-40-100-0.csv', '2P.EARTH-40-100-0_frt.csv', '2P.EARTH-40-20-0.csv', '2P.EARTH-40-20-0_frt.csv', '2P.EARTH-40-40-0.csv', '2P.EARTH-40-40-0_frt.csv', '2P.EARTH-40-60-0.csv', '2P.EARTH-40-60-0_frt.csv', '2P.EARTH-60-0-0.csv', '2P.EARTH-60-0-0_frt.csv', '2P.EARTH-60-100-0.csv', '2P.EARTH-60-100-0_frt.csv', '2P.EARTH-60-20-0.csv', '2P.EARTH-60-20-0_frt.csv', '2P.EARTH-60-40-0.csv', '2P.EARTH-60-40-0_frt.csv', '2P.EARTH-60-60-0.csv', '2P.EARTH-60-60-0_frt.csv', '3P-0-0-0.csv', '3P-0-0-100.csv', '3P-0-0-100_frt.csv', '3P-0-0-20.csv', '3P-0-0-40.csv', '3P-0-0-60.csv', '3P-0-0-60_frt.csv', '3P-0-100-0.csv', '3P-0-100-0_frt.csv', '3P-0-100-100.csv', '3P-0-100-100_frt.csv', '3P-0-100-20.csv', '3P-0-100-20_frt.csv', '3P-0-100-40.csv', '3P-0-100-40_frt.csv', '3P-0-100-60.csv', '3P-0-100-60_frt.csv', '3P-0-20-0.csv', '3P-0-20-100.csv', '3P-0-20-100_frt.csv', '3P-0-20-20.csv', '3P-0-20-40.csv', '3P-0-20-40_frt.csv', '3P-0-20-60.csv', '3P-0-20-60_frt.csv', '3P-0-40-0.csv', '3P-0-40-100.csv', '3P-0-40-100_frt.csv', '3P-0-40-20.csv', '3P-0-40-20_frt.csv', '3P-0-40-40.csv', '3P-0-40-40_frt.csv', '3P-0-40-60.csv', '3P-0-40-60_frt.csv', '3P-0-60-0.csv', '3P-0-60-0_frt.csv', '3P-0-60-100.csv', '3P-0-60-100_frt.csv', '3P-0-60-20.csv', '3P-0-60-20_frt.csv', '3P-0-60-40.csv', '3P-0-60-40_frt.csv', '3P-0-60-60.csv', '3P-0-60-60_frt.csv', '3P-100-0-0.csv', '3P-100-0-0_frt.csv', '3P-100-0-100.csv', '3P-100-0-100_frt.csv', '3P-100-0-20.csv', '3P-100-0-20_frt.csv', '3P-100-0-40.csv', '3P-100-0-40_frt.csv', '3P-100-0-60.csv', '3P-100-0-60_frt.csv', '3P-100-100-0.csv', '3P-100-100-0_frt.csv', '3P-100-100-100.csv', '3P-100-100-100_frt.csv', '3P-100-100-20.csv', '3P-100-100-20_frt.csv', '3P-100-100-40.csv', '3P-100-100-40_frt.csv', '3P-100-100-60.csv', '3P-100-100-60_frt.csv', '3P-100-20-0.csv', '3P-100-20-0_frt.csv', '3P-100-20-100.csv', '3P-100-20-100_frt.csv', '3P-100-20-20.csv', '3P-100-20-20_frt.csv', '3P-100-20-40.csv', '3P-100-20-40_frt.csv', '3P-100-20-60.csv', '3P-100-20-60_frt.csv', '3P-100-40-0.csv', '3P-100-40-0_frt.csv', '3P-100-40-100.csv', '3P-100-40-100_frt.csv', '3P-100-40-20.csv', '3P-100-40-20_frt.csv', '3P-100-40-40.csv', '3P-100-40-40_frt.csv', '3P-100-40-60.csv', '3P-100-40-60_frt.csv', '3P-100-60-0.csv', '3P-100-60-0_frt.csv', '3P-100-60-100.csv', '3P-100-60-100_frt.csv', '3P-100-60-20.csv', '3P-100-60-20_frt.csv', '3P-100-60-40.csv', '3P-100-60-40_frt.csv', '3P-100-60-60.csv', '3P-100-60-60_frt.csv', '3P-20-0-0.csv', '3P-20-0-100.csv', '3P-20-0-100_frt.csv', '3P-20-0-20.csv', '3P-20-0-40.csv', '3P-20-0-40_frt.csv', '3P-20-0-60.csv', '3P-20-0-60_frt.csv', '3P-20-100-0.csv', '3P-20-100-0_frt.csv', '3P-20-100-100.csv', '3P-20-100-100_frt.csv', '3P-20-100-20.csv', '3P-20-100-20_frt.csv', '3P-20-100-40.csv', '3P-20-100-40_frt.csv', '3P-20-100-60.csv', '3P-20-100-60_frt.csv', '3P-20-20-0.csv', '3P-20-20-100.csv', '3P-20-20-100_frt.csv', '3P-20-20-20.csv', '3P-20-20-20_frt.csv', '3P-20-20-40.csv', '3P-20-20-40_frt.csv', '3P-20-20-60.csv', '3P-20-20-60_frt.csv', '3P-20-40-0.csv', '3P-20-40-0_frt.csv', '3P-20-40-100.csv', '3P-20-40-100_frt.csv', '3P-20-40-20.csv', '3P-20-40-20_frt.csv', '3P-20-40-40.csv', '3P-20-40-40_frt.csv', '3P-20-40-60.csv', '3P-20-40-60_frt.csv', '3P-20-60-0.csv', '3P-20-60-0_frt.csv', '3P-20-60-100.csv', '3P-20-60-100_frt.csv', '3P-20-60-20.csv', '3P-20-60-20_frt.csv', '3P-20-60-40.csv', '3P-20-60-40_frt.csv', '3P-20-60-60.csv', '3P-20-60-60_frt.csv', '3P-40-0-0.csv', '3P-40-0-100.csv', '3P-40-0-100_frt.csv', '3P-40-0-20.csv', '3P-40-0-20_frt.csv', '3P-40-0-40.csv', '3P-40-0-40_frt.csv', '3P-40-0-60.csv', '3P-40-0-60_frt.csv', '3P-40-100-0.csv', '3P-40-100-0_frt.csv', '3P-40-100-100.csv', '3P-40-100-100_frt.csv', '3P-40-100-20.csv', '3P-40-100-20_frt.csv', '3P-40-100-40.csv', '3P-40-100-40_frt.csv', '3P-40-100-60.csv', '3P-40-100-60_frt.csv', '3P-40-20-0.csv', '3P-40-20-0_frt.csv', '3P-40-20-100.csv', '3P-40-20-100_frt.csv', '3P-40-20-20.csv', '3P-40-20-20_frt.csv', '3P-40-20-40.csv', '3P-40-20-40_frt.csv', '3P-40-20-60.csv', '3P-40-20-60_frt.csv', '3P-40-40-0.csv', '3P-40-40-0_frt.csv', '3P-40-40-100.csv', '3P-40-40-100_frt.csv', '3P-40-40-20.csv', '3P-40-40-20_frt.csv', '3P-40-40-40.csv', '3P-40-40-40_frt.csv', '3P-40-40-60.csv', '3P-40-40-60_frt.csv', '3P-40-60-0.csv', '3P-40-60-0_frt.csv', '3P-40-60-100.csv', '3P-40-60-100_frt.csv', '3P-40-60-20.csv', '3P-40-60-20_frt.csv', '3P-40-60-40.csv', '3P-40-60-40_frt.csv', '3P-40-60-60.csv', '3P-40-60-60_frt.csv', '3P-60-0-0.csv', '3P-60-0-0_frt.csv', '3P-60-0-100.csv', '3P-60-0-100_frt.csv', '3P-60-0-20.csv', '3P-60-0-20_frt.csv', '3P-60-0-40.csv', '3P-60-0-40_frt.csv', '3P-60-0-60.csv', '3P-60-0-60_frt.csv', '3P-60-100-0.csv', '3P-60-100-0_frt.csv', '3P-60-100-100.csv', '3P-60-100-100_frt.csv', '3P-60-100-20.csv', '3P-60-100-20_frt.csv', '3P-60-100-40.csv', '3P-60-100-40_frt.csv', '3P-60-100-60.csv', '3P-60-100-60_frt.csv', '3P-60-20-0.csv', '3P-60-20-0_frt.csv', '3P-60-20-100.csv', '3P-60-20-100_frt.csv', '3P-60-20-20.csv', '3P-60-20-20_frt.csv', '3P-60-20-40.csv', '3P-60-20-40_frt.csv', '3P-60-20-60.csv', '3P-60-20-60_frt.csv', '3P-60-40-0.csv', '3P-60-40-0_frt.csv', '3P-60-40-100.csv', '3P-60-40-100_frt.csv', '3P-60-40-20.csv', '3P-60-40-20_frt.csv', '3P-60-40-40.csv', '3P-60-40-40_frt.csv', '3P-60-40-60.csv', '3P-60-40-60_frt.csv', '3P-60-60-0.csv', '3P-60-60-0_frt.csv', '3P-60-60-100.csv', '3P-60-60-100_frt.csv', '3P-60-60-20.csv', '3P-60-60-20_frt.csv', '3P-60-60-40.csv', '3P-60-60-40_frt.csv', '3P-60-60-60.csv', '3P-60-60-60_frt.csv']\n"
     ]
    }
   ],
   "source": [
    "directory = 'Wind_Faults'\n",
    "# Loop through all files in the directory\n",
    "files = []\n",
    "bad_files = [\n",
    "    '1P-0.0.0.csv',\n",
    "    '1P-20.0.0.csv',\n",
    "    '1P-40.0.0.csv',\n",
    "    '2P-0.0.0.csv',\n",
    "    '2P-0.20.0.csv',\n",
    "    '2P-0.40.0.csv',\n",
    "    '2P-20.0.0.csv',\n",
    "    '2P-20.20.0.csv',\n",
    "    '2P-40.0.0.csv',\n",
    "    '2P.EARTH-0.0.0.csv',\n",
    "    '2P.EARTH-0.20.0.csv',\n",
    "    '2P.EARTH-0.40.0.csv',\n",
    "    '2P.EARTH-20.0.0.csv',\n",
    "    '2P.EARTH-20.20.0.csv',\n",
    "    '2P.EARTH-40.0.0.csv',\n",
    "    '3P-0.0.0.csv',\n",
    "    '3P-0.0.20.csv',\n",
    "    '3P-0.0.40.csv',\n",
    "    '3P-0.20.0.csv',\n",
    "    '3P-0.20.20.csv',\n",
    "    '3P-0.40.0.csv',\n",
    "    '3P-20.0.0.csv',\n",
    "    '3P-20.0.20.csv',\n",
    "    '3P-20.20.0.csv',\n",
    "    '3P-40.0.0.csv'\n",
    "]\n",
    "\n",
    "for filename in os.listdir(directory):\n",
    "    files.append(filename)\n",
    "print(files)\n",
    "for file in files:\n",
    "    file_path = os.path.join(directory, file)\n",
    "    df = pd.read_csv(file_path)\n",
    "    if 'Unnamed: 20' in df.columns:\n",
    "        df.drop('Unnamed: 20', axis=1, inplace=True)\n",
    "    df.to_csv(file_path, index=False)\n"
   ]
  },
  {
   "cell_type": "code",
   "execution_count": 2,
   "metadata": {},
   "outputs": [
    {
     "name": "stdout",
     "output_type": "stream",
     "text": [
      "Number of columns in 1P-20-0-0.csv: 19\n",
      "Number of columns in 1PN-n.csv: 19\n",
      "Columns in 1P-20-0-0.csv: ['t/s', 'v/(m/s)', 'β [°]', 'n [rpm]', 'M [Nm]', 'Pmech [W]', 'Ugen [V]', 'Igen [A]', 'Sgen [VA]', 'Pgen [W]', 'Qgen [var]', 'Ulsc [V]', 'Ilsc [A]', 'Slsc [VA]', 'Plsc [W]', 'Qlsc [var]', 'Stot [VA]', 'Ptot [W]', 'Qtot [var]']\n",
      "Columns in 1PN-n.csv: ['t/s', 'v/(m/s)', 'β [°]', 'n [rpm]', 'M [Nm]', 'Pmech [W]', 'Ugen [V]', 'Igen [A]', 'Sgen [VA]', 'Pgen [W]', 'Qgen [var]', 'Ulsc [V]', 'Ilsc [A]', 'Slsc [VA]', 'Plsc [W]', 'Qlsc [var]', 'Stot [VA]', 'Ptot [W]', 'Qtot [var]']\n"
     ]
    }
   ],
   "source": [
    "import pandas as pd\n",
    "\n",
    "# Load the CSV files\n",
    "file1 = pd.read_csv('Distribution_faults//1P-20-0-0.csv')\n",
    "file2 = pd.read_csv('Distribution_faults/1PN-n.csv')\n",
    "\n",
    "# Print the number of columns in each file\n",
    "print(f\"Number of columns in 1P-20-0-0.csv: {file1.shape[1]}\")\n",
    "print(f\"Number of columns in 1PN-n.csv: {file2.shape[1]}\")\n",
    "\n",
    "# Print the column names for comparison\n",
    "print(f\"Columns in 1P-20-0-0.csv: {file1.columns.tolist()}\")\n",
    "print(f\"Columns in 1PN-n.csv: {file2.columns.tolist()}\")"
   ]
  },
  {
   "cell_type": "code",
   "execution_count": null,
   "metadata": {},
   "outputs": [],
   "source": []
  },
  {
   "cell_type": "code",
   "execution_count": null,
   "metadata": {},
   "outputs": [],
   "source": [
    "def add_noise_to_csv_files(input_dir, output_subdir, noise_level=0.02):\n",
    "    \"\"\"\n",
    "    Adds noise to data from CSV files in a directory and saves them as new CSV files in a subfolder.\n",
    "\n",
    "    Parameters:\n",
    "    - input_dir (str): Path to the directory containing the original CSV files.\n",
    "    - output_subdir (str): Name of the subfolder to save the augmented CSV files.\n",
    "    - noise_level (float): Standard deviation of the Gaussian noise to be added.\n",
    "    \"\"\"\n",
    "    # Create the output subdirectory if it doesn't exist\n",
    "    output_dir = os.path.join(input_dir, output_subdir)\n",
    "    os.makedirs(output_dir, exist_ok=True)\n",
    "\n",
    "    # Iterate over all CSV files in the input directory\n",
    "    for file_name in os.listdir(input_dir):\n",
    "        if file_name.endswith('.csv'):\n",
    "            file_path = os.path.join(input_dir, file_name)\n",
    "            df = pd.read_csv(file_path)\n",
    "            \n",
    "            # Add Gaussian noise to the data\n",
    "            noise = np.random.normal(0, noise_level, df.shape)\n",
    "            df_noisy = df + noise\n",
    "            \n",
    "            # Save the augmented data to a new CSV file in the output subdirectory\n",
    "            output_file_path = os.path.join(output_dir, f\"noisy-{file_name}\")\n",
    "            df_noisy.to_csv(output_file_path, index=False)\n",
    "            print(f\"Saved noisy data to {output_file_path}\")\n",
    "\n",
    "# Example usage\n",
    "input_directory = 'Grid_Faults'\n",
    "output_subdirectory = 'Noisy_Data'\n",
    "add_noise_to_csv_files(input_directory, output_subdirectory, noise_level=0.01)"
   ]
  }
 ],
 "metadata": {
  "kernelspec": {
   "display_name": "venv",
   "language": "python",
   "name": "python3"
  },
  "language_info": {
   "codemirror_mode": {
    "name": "ipython",
    "version": 3
   },
   "file_extension": ".py",
   "mimetype": "text/x-python",
   "name": "python",
   "nbconvert_exporter": "python",
   "pygments_lexer": "ipython3",
   "version": "3.12.6"
  }
 },
 "nbformat": 4,
 "nbformat_minor": 2
}
