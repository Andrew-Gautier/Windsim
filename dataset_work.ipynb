{
 "cells": [
  {
   "cell_type": "code",
   "execution_count": 1,
   "metadata": {},
   "outputs": [],
   "source": [
    "import os\n",
    "import pandas\n",
    "import numpy as np\n",
    "import matplotlib.pyplot as plt\n",
    "import seaborn as sns\n"
   ]
  },
  {
   "cell_type": "markdown",
   "metadata": {},
   "source": [
    "The goal here is to create one large csv file that will be used to split into training windows and validation windows. There should be a label appended to the last column and this will need to be masked in evaluation. Classes of faults should be balanced and use noise to supplement the 1P, 2P, and 2P Earth up to the 3P levels"
   ]
  },
  {
   "cell_type": "code",
   "execution_count": null,
   "metadata": {},
   "outputs": [],
   "source": [
    "LABEL_MAPPING = {\n",
    "    \"3P\": 4,  # 3-phase to ground\n",
    "    \"2P\": 3,   # 2-phase line to line\n",
    "    \"2P.EARTH\": 2, # 2-phase to earth\n",
    "    \"1P\": 1,    # 1-pole line to ground\n",
    "    \"normal\": 0  # Normal\n",
    "}\n",
    "\n",
    "# Step 1: "
   ]
  }
 ],
 "metadata": {
  "kernelspec": {
   "display_name": "venv",
   "language": "python",
   "name": "python3"
  },
  "language_info": {
   "codemirror_mode": {
    "name": "ipython",
    "version": 3
   },
   "file_extension": ".py",
   "mimetype": "text/x-python",
   "name": "python",
   "nbconvert_exporter": "python",
   "pygments_lexer": "ipython3",
   "version": "3.12.6"
  }
 },
 "nbformat": 4,
 "nbformat_minor": 2
}
